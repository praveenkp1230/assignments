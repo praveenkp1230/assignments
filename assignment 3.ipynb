{
 "cells": [
  {
   "cell_type": "code",
   "execution_count": 2,
   "id": "a034d30f",
   "metadata": {},
   "outputs": [
    {
     "name": "stdout",
     "output_type": "stream",
     "text": [
      "Even :  5\n",
      "Odd :  4\n"
     ]
    }
   ],
   "source": [
    "even, odd= 0, 0\n",
    "\n",
    "for i in range(0,9): \n",
    "\n",
    "    if i % 2 == 0: \n",
    "\n",
    "        even += 1\n",
    "\n",
    "    else: \n",
    "\n",
    "        odd+= 1          \n",
    "\n",
    "print(\"Even : \", even) \n",
    "\n",
    "print(\"Odd : \", odd)"
   ]
  },
  {
   "cell_type": "code",
   "execution_count": null,
   "id": "10fcdcf4",
   "metadata": {},
   "outputs": [],
   "source": []
  }
 ],
 "metadata": {
  "kernelspec": {
   "display_name": "Python 3 (ipykernel)",
   "language": "python",
   "name": "python3"
  },
  "language_info": {
   "codemirror_mode": {
    "name": "ipython",
    "version": 3
   },
   "file_extension": ".py",
   "mimetype": "text/x-python",
   "name": "python",
   "nbconvert_exporter": "python",
   "pygments_lexer": "ipython3",
   "version": "3.9.6"
  }
 },
 "nbformat": 4,
 "nbformat_minor": 5
}
