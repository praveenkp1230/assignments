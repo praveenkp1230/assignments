{
 "cells": [
  {
   "cell_type": "code",
   "execution_count": 1,
   "id": "3f411fad",
   "metadata": {},
   "outputs": [
    {
     "name": "stdout",
     "output_type": "stream",
     "text": [
      "Expected Result = \n",
      "[(2, 1), (1, 2), (2, 3), (4, 4), (2, 5)]\n"
     ]
    }
   ],
   "source": [
    "sample_list =  [(2, 5), (1, 2), (4, 4), (2, 3), (2, 1)]\n",
    "def last(n):\n",
    "    return n[-1]\n",
    "def sort(tuples):\n",
    "    return sorted(tuples, key=last)\n",
    "print(\"Expected Result = \")\n",
    "print(sort(sample_list))\n"
   ]
  },
  {
   "cell_type": "code",
   "execution_count": null,
   "id": "44e901c0",
   "metadata": {},
   "outputs": [],
   "source": []
  }
 ],
 "metadata": {
  "kernelspec": {
   "display_name": "Python 3 (ipykernel)",
   "language": "python",
   "name": "python3"
  },
  "language_info": {
   "codemirror_mode": {
    "name": "ipython",
    "version": 3
   },
   "file_extension": ".py",
   "mimetype": "text/x-python",
   "name": "python",
   "nbconvert_exporter": "python",
   "pygments_lexer": "ipython3",
   "version": "3.9.6"
  }
 },
 "nbformat": 4,
 "nbformat_minor": 5
}
